{
  "nbformat": 4,
  "nbformat_minor": 0,
  "metadata": {
    "colab": {
      "name": "DC_Production_Plan[.docx].ipynb",
      "provenance": [],
      "collapsed_sections": [],
      "authorship_tag": "ABX9TyPMEUwE8HY0SziZE4BIvMVe",
      "include_colab_link": true
    },
    "kernelspec": {
      "name": "python3",
      "display_name": "Python 3"
    }
  },
  "cells": [
    {
      "cell_type": "markdown",
      "metadata": {
        "id": "view-in-github",
        "colab_type": "text"
      },
      "source": [
        "<a href=\"https://colab.research.google.com/github/nad369/covid-19/blob/master/DC_Production_Plan%5B_docx%5D.ipynb\" target=\"_parent\"><img src=\"https://colab.research.google.com/assets/colab-badge.svg\" alt=\"Open In Colab\"/></a>"
      ]
    },
    {
      "cell_type": "code",
      "metadata": {
        "id": "xqIl_PH_huBF",
        "colab_type": "code",
        "colab": {}
      },
      "source": [
        "!pip install pandas"
      ],
      "execution_count": null,
      "outputs": []
    },
    {
      "cell_type": "code",
      "metadata": {
        "id": "IcAAmHVth1n3",
        "colab_type": "code",
        "colab": {}
      },
      "source": [
        "pip install docx2txt"
      ],
      "execution_count": null,
      "outputs": []
    },
    {
      "cell_type": "code",
      "metadata": {
        "id": "4bZzMUFHh4sb",
        "colab_type": "code",
        "colab": {}
      },
      "source": [
        "import pandas as pd\n",
        "df = pd.read_excel(\"INVOICES.xlsx\")\n",
        "df.head()"
      ],
      "execution_count": null,
      "outputs": []
    },
    {
      "cell_type": "code",
      "metadata": {
        "id": "ZZgF4OG1h6oC",
        "colab_type": "code",
        "colab": {}
      },
      "source": [
        "import docx2txt\n",
        "work_order  = list()\n",
        "batch_no = list()\n",
        "spec = list()\n",
        "list1 = list()\n",
        "ran = range(1395,1400)\n",
        "for j in ran:\n",
        "  list1.append(str(j)+\".docx\")\n",
        "print(list1)\n",
        "for i in list1:\n",
        "  my_text = docx2txt.process(i)\n",
        "#BATCH NUMBER\n",
        "  x = my_text.find(\"BATCH NO.\")\n",
        "  g = x+1\n",
        "  a = my_text[g:840]\n",
        "  c = a.find(\":\")\n",
        "  e = a[22:42]\n",
        "  n = e.rstrip()\n",
        "  #print(n)\n",
        "#SPECIFICATION\n",
        "  z = my_text.find(\"SPECIFICATION\")\n",
        "  o = z+1\n",
        "  p = my_text[o:756]\n",
        "  q = p.find(\":\")\n",
        "  r = p[19:42]\n",
        "  s = r.rstrip()\n",
        "  #print(s)\n",
        "#WORK ORDER NUMBER  \n",
        "  y = my_text.find(\"W.O\")\n",
        "  if (y != -1):\n",
        "    h = y+1\n",
        "    b = my_text[h:915]\n",
        "    d = b.find(\":\")\n",
        "    f = b[26:46]\n",
        "    m = f.rstrip()\n",
        "    #print(m)\n",
        "  else:\n",
        "    print(\"NO WORK ORDER\")\n",
        "\n",
        "  work_order.append(m)\n",
        "  batch_no.append(n)\n",
        "  spec.append(s)\n",
        "\n",
        "print(work_order)\n",
        "print(batch_no)\n",
        "print(spec)"
      ],
      "execution_count": null,
      "outputs": []
    },
    {
      "cell_type": "code",
      "metadata": {
        "id": "2neR1Zszh-7e",
        "colab_type": "code",
        "colab": {
          "base_uri": "https://localhost:8080/",
          "height": 204
        },
        "outputId": "db3dc640-f402-4e94-faf2-77009e93504b"
      },
      "source": [
        "df1 = pd.DataFrame()\n",
        "df1['BATCH NO'] = batch_no\n",
        "df1['WORK ORDER'] = work_order\n",
        "df1['SPECIFICATION'] = spec\n",
        "df1.head(30)"
      ],
      "execution_count": 30,
      "outputs": [
        {
          "output_type": "execute_result",
          "data": {
            "text/html": [
              "<div>\n",
              "<style scoped>\n",
              "    .dataframe tbody tr th:only-of-type {\n",
              "        vertical-align: middle;\n",
              "    }\n",
              "\n",
              "    .dataframe tbody tr th {\n",
              "        vertical-align: top;\n",
              "    }\n",
              "\n",
              "    .dataframe thead th {\n",
              "        text-align: right;\n",
              "    }\n",
              "</style>\n",
              "<table border=\"1\" class=\"dataframe\">\n",
              "  <thead>\n",
              "    <tr style=\"text-align: right;\">\n",
              "      <th></th>\n",
              "      <th>BATCH NO</th>\n",
              "      <th>WORK ORDER</th>\n",
              "      <th>SPECIFICATION</th>\n",
              "    </tr>\n",
              "  </thead>\n",
              "  <tbody>\n",
              "    <tr>\n",
              "      <th>0</th>\n",
              "      <td>DOR/L/23841/SHEET</td>\n",
              "      <td>473012</td>\n",
              "      <td>AMS QQ-Q-250/6 2024 CLA</td>\n",
              "    </tr>\n",
              "    <tr>\n",
              "      <th>1</th>\n",
              "      <td>DOR/S/22865/SHEET</td>\n",
              "      <td>477149</td>\n",
              "      <td>321 AMS 5510</td>\n",
              "    </tr>\n",
              "    <tr>\n",
              "      <th>2</th>\n",
              "      <td>DOR/L/22137/L-PROFIL</td>\n",
              "      <td>474068</td>\n",
              "      <td>3.1354 T3511</td>\n",
              "    </tr>\n",
              "    <tr>\n",
              "      <th>3</th>\n",
              "      <td>DOR/S/24879/R.B</td>\n",
              "      <td>470986</td>\n",
              "      <td>LN668-1.7734.4</td>\n",
              "    </tr>\n",
              "    <tr>\n",
              "      <th>4</th>\n",
              "      <td>156098</td>\n",
              "      <td>473977</td>\n",
              "      <td>LN29940-05014</td>\n",
              "    </tr>\n",
              "  </tbody>\n",
              "</table>\n",
              "</div>"
            ],
            "text/plain": [
              "               BATCH NO WORK ORDER            SPECIFICATION\n",
              "0     DOR/L/23841/SHEET     473012  AMS QQ-Q-250/6 2024 CLA\n",
              "1     DOR/S/22865/SHEET     477149             321 AMS 5510\n",
              "2  DOR/L/22137/L-PROFIL     474068             3.1354 T3511\n",
              "3       DOR/S/24879/R.B     470986           LN668-1.7734.4\n",
              "4                156098     473977            LN29940-05014"
            ]
          },
          "metadata": {
            "tags": []
          },
          "execution_count": 30
        }
      ]
    },
    {
      "cell_type": "code",
      "metadata": {
        "id": "o4aJGB-x5MfK",
        "colab_type": "code",
        "colab": {}
      },
      "source": [
        "df1.to_excel(\"docx-2.xlsx\")"
      ],
      "execution_count": 26,
      "outputs": []
    }
  ]
}