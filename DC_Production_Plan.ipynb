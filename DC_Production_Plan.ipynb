{
  "nbformat": 4,
  "nbformat_minor": 0,
  "metadata": {
    "colab": {
      "name": "DC_Production_Plan.ipynb",
      "provenance": [],
      "collapsed_sections": [],
      "authorship_tag": "ABX9TyNJJc7yPamPmhjv6bH8kGQh",
      "include_colab_link": true
    },
    "kernelspec": {
      "name": "python3",
      "display_name": "Python 3"
    }
  },
  "cells": [
    {
      "cell_type": "markdown",
      "metadata": {
        "id": "view-in-github",
        "colab_type": "text"
      },
      "source": [
        "<a href=\"https://colab.research.google.com/github/nad369/covid-19/blob/master/DC_Production_Plan.ipynb\" target=\"_parent\"><img src=\"https://colab.research.google.com/assets/colab-badge.svg\" alt=\"Open In Colab\"/></a>"
      ]
    },
    {
      "cell_type": "code",
      "metadata": {
        "id": "v0_R-Z3wHLlf",
        "colab_type": "code",
        "colab": {}
      },
      "source": [
        "!pip install docx2txt"
      ],
      "execution_count": null,
      "outputs": []
    },
    {
      "cell_type": "code",
      "metadata": {
        "id": "NmH4QN1LTD27",
        "colab_type": "code",
        "colab": {}
      },
      "source": [
        "!pip install pandas as pd"
      ],
      "execution_count": null,
      "outputs": []
    },
    {
      "cell_type": "code",
      "metadata": {
        "id": "XRN_QwxsG7om",
        "colab_type": "code",
        "colab": {}
      },
      "source": [
        "import docx2txt\n",
        "batch_no = list()\n",
        "work_order = list()\n",
        "spec = list()\n",
        "list1 = list()\n",
        "ran = range(1300,1802)\n",
        "for j in ran:\n",
        "  list1.append(str(j)+\".docx\")\n",
        "for i in list1:\n",
        "  my_text = docx2txt.process(i)\n",
        "  #BATCH\n",
        "  x = my_text.find(\"BATCH\")\n",
        "  y = my_text [x:x+50]\n",
        "  z = y.find(\":\")\n",
        "  a = y[z+2:z+50]\n",
        "  b = a.rstrip()\n",
        "  batch_no.append(b)\n",
        "  #WORK ORDER\n",
        "  c = my_text.find(\"W. O\")\n",
        "  h = my_text.find(\"WORK ORDER\")\n",
        "  r = my_text.find(\"W.O\")\n",
        "  if (c != -1):\n",
        "    d = my_text[c:c+50]\n",
        "    e = d.find(\":\")\n",
        "    f = d[e+1:e+34]\n",
        "    g = f.rstrip()\n",
        "    work_order.append(g)\n",
        "  elif (h != -1) :\n",
        "    i = my_text[h:h+50]\n",
        "    j = i.find(\":\")\n",
        "    k = i[j+1:j+34]\n",
        "    l = k.rstrip()\n",
        "    work_order.append(l)\n",
        "  else :\n",
        "    s = my_text[r:r+50]\n",
        "    t = s.find(\":\")\n",
        "    u = s[t+1:t+34]\n",
        "    v = u.rstrip()\n",
        "    work_order.append(v)\n",
        "\n",
        "  #SPECIFICATION\n",
        "  m = my_text.find(\"SPECIFICATION\")\n",
        "  n = my_text[m:m+50]\n",
        "  o = n.find(\":\")\n",
        "  p = n[o+2:o+40]\n",
        "  q = p.rstrip(\"\\n\\tBATCH NO.\")\n",
        "  spec.append(q)\n",
        "\n",
        "print(batch_no)\n",
        "print(work_order)\n",
        "print(spec)"
      ],
      "execution_count": null,
      "outputs": []
    },
    {
      "cell_type": "code",
      "metadata": {
        "id": "PXWXFyZDS72-",
        "colab_type": "code",
        "colab": {}
      },
      "source": [
        "import pandas as pd\n",
        "df1 = pd.DataFrame()\n",
        "df1['BATCH NO'] = batch_no\n",
        "df1['WORK ORDER'] = work_order\n",
        "df1['SPECIFICATION'] = spec\n",
        "df1.head(30)"
      ],
      "execution_count": null,
      "outputs": []
    },
    {
      "cell_type": "code",
      "metadata": {
        "id": "JnwW4fIeKSxP",
        "colab_type": "code",
        "colab": {}
      },
      "source": [
        "df1.to_excel(\"DC_Purchase_Plan-1.xlsx\")"
      ],
      "execution_count": null,
      "outputs": []
    }
  ]
}