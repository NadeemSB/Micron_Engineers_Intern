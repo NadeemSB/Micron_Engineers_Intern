{
  "nbformat": 4,
  "nbformat_minor": 0,
  "metadata": {
    "colab": {
      "name": "Incoming_Inspection_Report.ipynb",
      "provenance": [],
      "collapsed_sections": [],
      "toc_visible": true,
      "authorship_tag": "ABX9TyM+8bGUbu9mJqvGTO123d1E",
      "include_colab_link": true
    },
    "kernelspec": {
      "name": "python3",
      "display_name": "Python 3"
    }
  },
  "cells": [
    {
      "cell_type": "markdown",
      "metadata": {
        "id": "view-in-github",
        "colab_type": "text"
      },
      "source": [
        "<a href=\"https://colab.research.google.com/github/nad369/Micron-Engineers-AS9100/blob/master/Incoming_Inspection_Report.ipynb\" target=\"_parent\"><img src=\"https://colab.research.google.com/assets/colab-badge.svg\" alt=\"Open In Colab\"/></a>"
      ]
    },
    {
      "cell_type": "markdown",
      "metadata": {
        "id": "YUqCR7_ncjzB",
        "colab_type": "text"
      },
      "source": [
        "## **Python pd dataframe extraction method.**"
      ]
    },
    {
      "cell_type": "code",
      "metadata": {
        "id": "Zl8a0LktE7NC",
        "colab_type": "code",
        "colab": {}
      },
      "source": [
        "!pip install pandas\n",
        "!pip install docx2txt"
      ],
      "execution_count": null,
      "outputs": []
    },
    {
      "cell_type": "code",
      "metadata": {
        "id": "n14RgsOnF7bB",
        "colab_type": "code",
        "colab": {}
      },
      "source": [
        "import pandas as pd\n",
        "df = pd.read_excel('0601.xlsx')\n",
        "list1 = list()\n",
        "x = str(df)\n",
        "y = x.splitlines()\n",
        "print(x)\n",
        "for line in y:\n",
        "  list1.append(line[4:].lstrip())\n",
        "#OperatioN\n",
        "parameter = list1[-2]\n",
        "#IIR no & Date\n",
        "date = \"598/\"+list1[1].rstrip(\" :0\")\n",
        "#Part details \n",
        "part = list1[12][1:].lstrip()\n",
        "#Part number \n",
        "ind_no = part.find(\" \")\n",
        "part_no = part[:ind_no]\n",
        "#Part name\n",
        "ind_name = part.find(\" \")\n",
        "part_name = part[ind_name+3:].rstrip(\" -\")\n",
        "#System Print Statements\n",
        "print(supplier)\n",
        "print(date)\n",
        "print(part_no)\n",
        "print(part_name)\n",
        "print(parameter)\n",
        "print(list1[14][:-9])"
      ],
      "execution_count": null,
      "outputs": []
    },
    {
      "cell_type": "code",
      "metadata": {
        "id": "T0UrwXDRAT_c",
        "colab_type": "code",
        "colab": {}
      },
      "source": [
        "print(x)"
      ],
      "execution_count": null,
      "outputs": []
    },
    {
      "cell_type": "code",
      "metadata": {
        "id": "5sRHYg3Y3XGT",
        "colab_type": "code",
        "colab": {}
      },
      "source": [
        "import openpyxl\n",
        "srcfile = openpyxl.load_workbook('IIR-2020_Format.xlsx',read_only=False, keep_vba= True)\n",
        "sheetname = srcfile.get_sheet_by_name('Sheet1')\n",
        "sheetname['B6']= \"DEEPAK INDUSTRIES\"              #SUPPLIER\n",
        "sheetname['F6'] = \"0601/2019-07-27\"               #IIR/DATE\n",
        "sheetname['B7'] = \"E A-212012A06B\"                #PART_NO\n",
        "sheetname['F7'] = \"BUSH\"                          #PART_NAME\n",
        "sheetname['F8'] = \" \"                             #OUR D.C NO.\n",
        "sheetname['B9'] = \"01\"                            #TOTAL QUANTITY\n",
        "sheetname['F10'] = \"NIL\"                          #SAMPLE QTY\n",
        "sheetname['A14'] = \"CUTTING\"                      #PARAMETER\n",
        "sheetname['C14'] = \"Ø50 X 1100MM\"                 #SPECIFICATION\n",
        "sheetname['A17'] = \"NIL\"                          #ACCEPT QTY(S)\n",
        "sheetname['B17'] = \"NIL\"                          #REJECT QTY(S)\n",
        "sheetname['C17'] = \"01\"                           #ACCEPT QTY(T)\n",
        "sheetname['D17'] = \"NIL\"                          #REJECT QTY(T)\n",
        "sheetname['E19'] = \"DATE: 23.11.2019 \"            #DATE-1\n",
        "sheetname['F19'] = \"DATE: 23.11.2019\"             #DATE-2\n",
        "sheetname['A27'] = \"DATE: 23.11.2019\"             #DATE-3\n",
        "sheetname['D27'] = \"DATE: 23.11.2019\"             #DATE-4\n",
        "srcfile.save('D-0601.xlsm')"
      ],
      "execution_count": null,
      "outputs": []
    }
  ]
}